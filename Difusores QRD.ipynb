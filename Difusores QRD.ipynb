{
 "cells": [
  {
   "cell_type": "code",
   "execution_count": 1,
   "metadata": {},
   "outputs": [],
   "source": [
    "import numpy as np\n",
    "import librosa as lib\n",
    "import pandas as pd\n",
    "%matplotlib notebook\n",
    "import matplotlib.pyplot as plt"
   ]
  },
  {
   "cell_type": "code",
   "execution_count": 21,
   "metadata": {},
   "outputs": [
    {
     "name": "stdout",
     "output_type": "stream",
     "text": [
      "ingrese un numero primo mayor que 2 : 7\n",
      "7 es valido\n"
     ]
    }
   ],
   "source": [
    "N = int(input('ingrese un numero primo mayor que 2 : '))\n",
    "if N==1 or N==2:\n",
    "        print(str(N)+\" es menor o igual a 2\")\n",
    "else:\n",
    "    for i in range(2,N):\n",
    "        if N%i==0:\n",
    "            print(str(N)+\" no es primo\")\n",
    "            break\n",
    "        if N==i+1:\n",
    "            print(str(N)+\" es valido\")\n"
   ]
  },
  {
   "cell_type": "code",
   "execution_count": null,
   "metadata": {},
   "outputs": [],
   "source": []
  }
 ],
 "metadata": {
  "kernelspec": {
   "display_name": "ACUS220-2",
   "language": "python",
   "name": "acus220-2"
  },
  "language_info": {
   "codemirror_mode": {
    "name": "ipython",
    "version": 3
   },
   "file_extension": ".py",
   "mimetype": "text/x-python",
   "name": "python",
   "nbconvert_exporter": "python",
   "pygments_lexer": "ipython3",
   "version": "3.6.12"
  }
 },
 "nbformat": 4,
 "nbformat_minor": 4
}
