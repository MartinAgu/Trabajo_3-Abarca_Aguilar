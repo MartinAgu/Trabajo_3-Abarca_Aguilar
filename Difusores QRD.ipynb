{
 "cells": [
  {
   "cell_type": "code",
   "execution_count": 7,
   "metadata": {},
   "outputs": [],
   "source": [
    "import numpy as np\n",
    "import librosa as lib\n",
    "import pandas as pd\n",
    "%matplotlib notebook\n",
    "import matplotlib.pyplot as plt\n",
    "import ipywidgets as widgets"
   ]
  },
  {
   "cell_type": "code",
   "execution_count": 57,
   "metadata": {
    "scrolled": false
   },
   "outputs": [
    {
     "name": "stdout",
     "output_type": "stream",
     "text": [
      "ingrese la frecuencia de diseño para el difusor: 100\n",
      "ingrese la frecuencia máxima de diseño para el difusor: 200\n"
     ]
    }
   ],
   "source": [
    "fo = int(input('ingrese la frecuencia de diseño para el difusor: '))\n",
    "fmax = int(input('ingrese la frecuencia máxima de diseño para el difusor: '))\n",
    "if fmax > 8*fo:\n",
    "    fmax = int(input('La frecuencia máxima no debe ser mayot a tres octavas de la frecuencia de diseño, ingrese otro valor: '))"
   ]
  },
  {
   "cell_type": "code",
   "execution_count": 58,
   "metadata": {},
   "outputs": [
    {
     "data": {
      "text/plain": [
       "8.0"
      ]
     },
     "execution_count": 58,
     "metadata": {},
     "output_type": "execute_result"
    }
   ],
   "source": [
    "M = 2\n",
    "q = (2*fmax*M)/(fo)\n",
    "q"
   ]
  },
  {
   "cell_type": "code",
   "execution_count": 69,
   "metadata": {},
   "outputs": [
    {
     "name": "stdout",
     "output_type": "stream",
     "text": [
      "8 no es primo\n",
      "9 no es primo\n",
      "10 no es primo\n",
      "11 es valido\n"
     ]
    }
   ],
   "source": [
    "N = int(q)                                                      # Ingresar la cantidad de separaciones que tendrá el difusor QRD.\n",
    "if N==1 or N==2:                                           # Una condición para limitar el numero primo menor qeu se aceptará.\n",
    "        print(str(N)+\"esta configuración no es valida\")\n",
    "else:\n",
    "    ind = 0\n",
    "    for j in range (N,2*N):\n",
    "        for i in range(2,N):                                   # for que recorre desde 2 hasta N para verificar las condiciones de número primo. \n",
    "            if N%i==0:                                         # Condición donde se discrimina si es primo o no el número ingresado.\n",
    "                print(str(N)+\" no es primo\")\n",
    "                N = N+1\n",
    "                break\n",
    "            if N==i+1:\n",
    "                print(str(N)+\" es valido\")\n",
    "                ind = 1\n",
    "                break\n",
    "        if ind == 1:\n",
    "            break\n",
    "\n",
    "        "
   ]
  },
  {
   "cell_type": "code",
   "execution_count": 72,
   "metadata": {},
   "outputs": [
    {
     "name": "stdout",
     "output_type": "stream",
     "text": [
      "11\n"
     ]
    }
   ],
   "source": [
    "co = 344                            # Velocidad del sonido.\n",
    "n = np.linspace(1,N,N)              # Vector de largo del numero primo N.\n",
    "sn = (n**2)%N                       # Secuecnia de residuos cuadráticos que define las profundidades de las cavidades.\n",
    "dn = (sn*co)/(2*N*fmax)             # Profundidad de las cavidades.\n",
    "w = co/(2*fmax)                     # Ancho de las cavidades.\n"
   ]
  },
  {
   "cell_type": "code",
   "execution_count": null,
   "metadata": {},
   "outputs": [],
   "source": []
  }
 ],
 "metadata": {
  "kernelspec": {
   "display_name": "ACUS220-2",
   "language": "python",
   "name": "acus220-2"
  },
  "language_info": {
   "codemirror_mode": {
    "name": "ipython",
    "version": 3
   },
   "file_extension": ".py",
   "mimetype": "text/x-python",
   "name": "python",
   "nbconvert_exporter": "python",
   "pygments_lexer": "ipython3",
   "version": "3.6.12"
  }
 },
 "nbformat": 4,
 "nbformat_minor": 4
}
