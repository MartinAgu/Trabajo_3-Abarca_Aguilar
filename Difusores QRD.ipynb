{
 "cells": [
  {
   "cell_type": "code",
   "execution_count": 1,
   "metadata": {},
   "outputs": [],
   "source": [
    "import numpy as np\n",
    "import pandas as pd\n",
    "%matplotlib notebook\n",
    "import matplotlib.pyplot as plt"
   ]
  },
  {
   "cell_type": "markdown",
   "metadata": {},
   "source": [
    "<h1 style=\"text-align:center\">Diseñador de Difusores QRD</h1>"
   ]
  },
  {
   "cell_type": "markdown",
   "metadata": {},
   "source": [
    "_En esta parte del repositorio se entrega un código capaz de calcular y entrgar los parámetros de diseño necesarios para la construcción de un difusor QRD 2D._"
   ]
  },
  {
   "cell_type": "markdown",
   "metadata": {},
   "source": [
    "### Elección de frecuencia de diseño y frecuencia máxima\n",
    "\n",
    "Estos datos serán a elección del usuario interesado en diseñar un difusor y dependiendo del problema que quiera solucionar."
   ]
  },
  {
   "cell_type": "code",
   "execution_count": 39,
   "metadata": {
    "scrolled": false
   },
   "outputs": [
    {
     "name": "stdout",
     "output_type": "stream",
     "text": [
      "ingrese la frecuencia de diseño para el difusor: 500\n",
      "ingrese la frecuencia máxima de diseño para el difusor: 2000\n"
     ]
    }
   ],
   "source": [
    "fo = int(input('ingrese la frecuencia de diseño para el difusor: '))\n",
    "fmax = int(input('ingrese la frecuencia máxima de diseño para el difusor: '))\n",
    "if fmax > 8*fo:                                                               #Condición de no superar tres octavas la frecuencia máxima respecto a la de diseño\n",
    "    fmax = int(input('La frecuencia máxima no debe ser mayot a tres octavas de la frecuencia de diseño, ingrese otro valor: '))"
   ]
  },
  {
   "cell_type": "markdown",
   "metadata": {},
   "source": [
    "### Determinación de la cantidad de cavidades del difusor\n",
    "\n",
    "Se determinará el numero primo de cavidades según las indicaciones de la teoría, si se desea ingresar un manualmente el numero de cavidades solo se debe comentar la definicion de N e ingresar la deseada."
   ]
  },
  {
   "cell_type": "code",
   "execution_count": 55,
   "metadata": {},
   "outputs": [],
   "source": [
    "M = 2                 # Orden de difusión (usualmente se utiliza dos, podría modificarse).\n",
    "q = (2*fmax*M)/(fo)   # Determinación del número de cavidades.\n",
    "N = int(q)            # Conversión de float a int.\n",
    "#N = 7                # Posibilidad de ingresar numero de cavidades manualmente."
   ]
  },
  {
   "cell_type": "markdown",
   "metadata": {},
   "source": [
    "### Verificación del número primo\n",
    "\n",
    "Como explica la teoría se debe tener una cantidad prima de cavidades, dado esto el siguiente código verificará esto y si N no es primo se elegirá el primo mayor más cercano a este."
   ]
  },
  {
   "cell_type": "code",
   "execution_count": 56,
   "metadata": {},
   "outputs": [
    {
     "name": "stdout",
     "output_type": "stream",
     "text": [
      "7 es valido\n"
     ]
    }
   ],
   "source": [
    "if N==1 or N==2:                                        # Una condición para limitar el numero primo menor qeu se aceptará.\n",
    "        print(str(N)+\"esta configuración no es valida\")\n",
    "else:\n",
    "    ind = 0                                             # Indicador para determinar si se encontró un número primo. \n",
    "    for j in range (N,2*N):                             # for que recorrera los numero enteros mayores al N encontrado anteriormente en caso de no ser un número primo.\n",
    "        for i in range(2,N):                            # for que recorre desde 2 hasta N para verificar las condiciones de número primo. \n",
    "            if N%i==0:                                  # Condición donde se discrimina si es primo o no el número ingresado.\n",
    "                print(str(N)+\" no es primo\")\n",
    "                N = N+1\n",
    "                break\n",
    "            if N==i+1:                                  # Condición que se cumplirá al recorrer todo el número y verificar que es primo.\n",
    "                print(str(N)+\" es valido\")\n",
    "                ind = 1\n",
    "                break\n",
    "        if ind == 1:\n",
    "            break\n",
    "        "
   ]
  },
  {
   "cell_type": "markdown",
   "metadata": {},
   "source": [
    "### Condición frecuencia crítica\n",
    "\n",
    "Para evitar problemas con la frecuencia crítica del difusor se verificará la condición que se debe cumplir entregada en la teoría."
   ]
  },
  {
   "cell_type": "code",
   "execution_count": 42,
   "metadata": {},
   "outputs": [
    {
     "name": "stdout",
     "output_type": "stream",
     "text": [
      "No existen problemas relacionados con la frecuencia crítica\n"
     ]
    }
   ],
   "source": [
    "if N <= (fmax/fo):            #Condición de frecuencia crítica\n",
    "    print(\"Con esta elección de frecuencia de diseño y frecuencia máxima se generan problemas con la frecuencia crítica del difusor. Para solucionarlo se deben elegir otras frecuencias.\") \n",
    "else:\n",
    "    print(\"No existen problemas relacionados con la frecuencia crítica\")"
   ]
  },
  {
   "cell_type": "markdown",
   "metadata": {},
   "source": [
    "### Determinación de las dimensiones del difusor"
   ]
  },
  {
   "cell_type": "code",
   "execution_count": 43,
   "metadata": {},
   "outputs": [
    {
     "data": {
      "text/plain": [
       "17"
      ]
     },
     "execution_count": 43,
     "metadata": {},
     "output_type": "execute_result"
    }
   ],
   "source": [
    "co = 344                            # Velocidad del sonido.\n",
    "n = np.linspace(1,N,N)              # Vector de largo del numero primo N.\n",
    "sn = (n**2)%N                       # Secuecnia de residuos cuadráticos que define las profundidades de las cavidades.\n",
    "dn = (sn*co)/(2*N*fmax)             # Profundidad de las cavidades.\n",
    "w = co/(2*fmax)                     # Ancho de las cavidades.\n",
    "dn_cm= (dn*100)                     # Profundidad de las cavidades en centímetros."
   ]
  },
  {
   "cell_type": "markdown",
   "metadata": {},
   "source": [
    "### Presentación de los resultados"
   ]
  },
  {
   "cell_type": "code",
   "execution_count": 52,
   "metadata": {},
   "outputs": [
    {
     "name": "stdout",
     "output_type": "stream",
     "text": [
      "El ancho de las cavidades es de 8.6 [cm] con una medida total del difusor de 1.46 [m].\n"
     ]
    },
    {
     "data": {
      "text/html": [
       "<div>\n",
       "<style scoped>\n",
       "    .dataframe tbody tr th:only-of-type {\n",
       "        vertical-align: middle;\n",
       "    }\n",
       "\n",
       "    .dataframe tbody tr th {\n",
       "        vertical-align: top;\n",
       "    }\n",
       "\n",
       "    .dataframe thead th {\n",
       "        text-align: right;\n",
       "    }\n",
       "</style>\n",
       "<table border=\"1\" class=\"dataframe\">\n",
       "  <thead>\n",
       "    <tr style=\"text-align: right;\">\n",
       "      <th></th>\n",
       "      <th>Profundidad [cm]</th>\n",
       "      <th>sn</th>\n",
       "    </tr>\n",
       "    <tr>\n",
       "      <th>Cavidades</th>\n",
       "      <th></th>\n",
       "      <th></th>\n",
       "    </tr>\n",
       "  </thead>\n",
       "  <tbody>\n",
       "    <tr>\n",
       "      <th>1</th>\n",
       "      <td>0.51</td>\n",
       "      <td>1</td>\n",
       "    </tr>\n",
       "    <tr>\n",
       "      <th>2</th>\n",
       "      <td>2.02</td>\n",
       "      <td>4</td>\n",
       "    </tr>\n",
       "    <tr>\n",
       "      <th>3</th>\n",
       "      <td>4.55</td>\n",
       "      <td>9</td>\n",
       "    </tr>\n",
       "    <tr>\n",
       "      <th>4</th>\n",
       "      <td>8.09</td>\n",
       "      <td>16</td>\n",
       "    </tr>\n",
       "    <tr>\n",
       "      <th>5</th>\n",
       "      <td>4.05</td>\n",
       "      <td>8</td>\n",
       "    </tr>\n",
       "    <tr>\n",
       "      <th>6</th>\n",
       "      <td>1.01</td>\n",
       "      <td>2</td>\n",
       "    </tr>\n",
       "    <tr>\n",
       "      <th>7</th>\n",
       "      <td>7.59</td>\n",
       "      <td>15</td>\n",
       "    </tr>\n",
       "    <tr>\n",
       "      <th>8</th>\n",
       "      <td>6.58</td>\n",
       "      <td>13</td>\n",
       "    </tr>\n",
       "    <tr>\n",
       "      <th>9</th>\n",
       "      <td>6.58</td>\n",
       "      <td>13</td>\n",
       "    </tr>\n",
       "    <tr>\n",
       "      <th>10</th>\n",
       "      <td>7.59</td>\n",
       "      <td>15</td>\n",
       "    </tr>\n",
       "    <tr>\n",
       "      <th>11</th>\n",
       "      <td>1.01</td>\n",
       "      <td>2</td>\n",
       "    </tr>\n",
       "    <tr>\n",
       "      <th>12</th>\n",
       "      <td>4.05</td>\n",
       "      <td>8</td>\n",
       "    </tr>\n",
       "    <tr>\n",
       "      <th>13</th>\n",
       "      <td>8.09</td>\n",
       "      <td>16</td>\n",
       "    </tr>\n",
       "    <tr>\n",
       "      <th>14</th>\n",
       "      <td>4.55</td>\n",
       "      <td>9</td>\n",
       "    </tr>\n",
       "    <tr>\n",
       "      <th>15</th>\n",
       "      <td>2.02</td>\n",
       "      <td>4</td>\n",
       "    </tr>\n",
       "    <tr>\n",
       "      <th>16</th>\n",
       "      <td>0.51</td>\n",
       "      <td>1</td>\n",
       "    </tr>\n",
       "    <tr>\n",
       "      <th>17</th>\n",
       "      <td>0.00</td>\n",
       "      <td>0</td>\n",
       "    </tr>\n",
       "  </tbody>\n",
       "</table>\n",
       "</div>"
      ],
      "text/plain": [
       "           Profundidad [cm]  sn\n",
       "Cavidades                      \n",
       "1                      0.51   1\n",
       "2                      2.02   4\n",
       "3                      4.55   9\n",
       "4                      8.09  16\n",
       "5                      4.05   8\n",
       "6                      1.01   2\n",
       "7                      7.59  15\n",
       "8                      6.58  13\n",
       "9                      6.58  13\n",
       "10                     7.59  15\n",
       "11                     1.01   2\n",
       "12                     4.05   8\n",
       "13                     8.09  16\n",
       "14                     4.55   9\n",
       "15                     2.02   4\n",
       "16                     0.51   1\n",
       "17                     0.00   0"
      ]
     },
     "execution_count": 52,
     "metadata": {},
     "output_type": "execute_result"
    }
   ],
   "source": [
    "df = pd.DataFrame(columns = ['Cavidades','Profundidad [cm]','sn'])  # Creación de un DataFrame con títulos en las colúmnas.\n",
    "df['Cavidades'] = np.linspace(1,N,N).astype(int)                    # Ingreso de la cantidad de cavidades para el indice del Data Frame.\n",
    "df['Profundidad [cm]'] = np.round(dn_cm,2)                          # Ingreso de los valores de las profundidades de las cavidades en centímetros en el Data Frame.\n",
    "df['sn'] = sn.astype(int)                                           # Ingreso de los valores de sn al Data Frame.\n",
    "print(\"El ancho de las cavidades es de \"+str(100*w)+\" [cm] con una medida total del difusor de \"+str(np.round(len(dn)*w,2))+\" [m].\")\n",
    "df.set_index('Cavidades')                                           # Elección de la columna \"Cavidades\" en el índice vertical del Data Frame."
   ]
  },
  {
   "cell_type": "code",
   "execution_count": null,
   "metadata": {},
   "outputs": [],
   "source": []
  }
 ],
 "metadata": {
  "kernelspec": {
   "display_name": "ACUS220-2",
   "language": "python",
   "name": "acus220-2"
  },
  "language_info": {
   "codemirror_mode": {
    "name": "ipython",
    "version": 3
   },
   "file_extension": ".py",
   "mimetype": "text/x-python",
   "name": "python",
   "nbconvert_exporter": "python",
   "pygments_lexer": "ipython3",
   "version": "3.6.12"
  }
 },
 "nbformat": 4,
 "nbformat_minor": 4
}
