{
 "cells": [
  {
   "cell_type": "code",
   "execution_count": 5,
   "metadata": {},
   "outputs": [
    {
     "data": {
      "text/html": [
       "<!-- Mejorar visualización en proyector -->\n",
       "<style>\n",
       ".rendered_html {font-size: 1.2em; line-height: 150%;}\n",
       "div.prompt {min-width: 0ex; }\n",
       ".container {width:95% !important;}\n",
       "</style>\n"
      ],
      "text/plain": [
       "<IPython.core.display.HTML object>"
      ]
     },
     "metadata": {},
     "output_type": "display_data"
    }
   ],
   "source": [
    "%%HTML\n",
    "<!-- Mejorar visualización en proyector -->\n",
    "<style>\n",
    ".rendered_html {font-size: 1.2em; line-height: 150%;}\n",
    "div.prompt {min-width: 0ex; }\n",
    ".container {width:95% !important;}\n",
    "</style>"
   ]
  },
  {
   "cell_type": "markdown",
   "metadata": {
    "scrolled": false
   },
   "source": [
    "<h1 style=\"text-align:center\">Trabajo N°3, Teoría.</h1>\n",
    "<h3 style=\"text-align:center\">ACUS220: Acústica computacional con Python</h3>\n",
    "<p style=\"text-align:center\">Yerko Abarca <br>\n",
    "<p style=\"text-align:center\">Martín Aguilar <br>"
   ]
  },
  {
   "cell_type": "markdown",
   "metadata": {},
   "source": [
    "# Problema.\n",
    "\n",
    "La existencia de reflexiones al interior de un local forma parte esencial del propio sonido del lugar. Entregando a este a través de los distintos materiales y posicionamiento de superficies que lo conforman, una enormidad de reflexiones (campo reverberante) que ‘colorean’ el sonido directo (campo directo). \n",
    "\n",
    "Un aspecto positivo que muchas veces pasa desapercibido para personas que no se desenvuelven en el rubro del audio, pero que no pasa de la misma manera cuando el efecto de las reflexiones tardías se torna molesto, generando entre otros problemas de localización y una apta escucha para la palabra o música.\n",
    "\n",
    "Un problema recurrente de reflexiones es causado debido a paredes paralelas, es el eco flotante.\n",
    "\n",
    "# Solución\n",
    "\n",
    "A través de superficies reflectantes es posible reflejar el sonido, también es posible generar difusión a través de superficies difusoras, con el fin de redireccionar su destino.\n",
    "\n",
    " <!--- Inline HTML works too --->\n",
    "<p style=\"text-align:center\">\n",
    "    <a title=\"Tipos de superficies\"><img src=\"concep1.gif\" width=\"500\" height=\"500\" alt=\"Tiny\"></a>\n",
    "    <strong>Figure 1. 4 casos de superficies reflectantes y difusas."
   ]
  },
  {
   "cell_type": "markdown",
   "metadata": {},
   "source": [
    "A través de estos difusores es posible disminuir o eliminar el eco flotante indeseado."
   ]
  },
  {
   "cell_type": "markdown",
   "metadata": {},
   "source": [
    "# Teoría.\n",
    "\n",
    "El fenómeno de Scattering es la respuesta física, al evento anteriormente mencionado.\n",
    "\n",
    " <!--- Inline HTML works too --->\n",
    "<p style=\"text-align:center\">\n",
    "    <a title=\"Scattering\"><img src=\"descargar.png\" width=\"500\" height=\"500\" alt=\"Tiny\"></a>\n",
    "    <strong>Figure 2. Scattering.\n"
   ]
  },
  {
   "cell_type": "markdown",
   "metadata": {},
   "source": [
    "Existe una variedad de tipos de difusores creados en base a secuencias numéricas. "
   ]
  },
  {
   "cell_type": "markdown",
   "metadata": {},
   "source": [
    "# Difusores de Schroeder QRD."
   ]
  },
  {
   "cell_type": "markdown",
   "metadata": {},
   "source": [
    " <!--- Inline HTML works too --->\n",
    "<p style=\"text-align:center\">\n",
    "    <a title=\"Difusor QRD\"><img src=\"QRD.png\" width=\"500\" height=\"500\" alt=\"Tiny\"></a>\n",
    "    <strong>Figure 3. Difusor QRD.\n"
   ]
  },
  {
   "cell_type": "markdown",
   "metadata": {},
   "source": [
    "En donde la profundidad de las cavidades se calcula a través de una secuencia de residuos cuadraticos.\n",
    "\\begin{align}\n",
    "    \\\\\n",
    "    s_{n} = n^2\\mod N\n",
    "    \\\\\n",
    "\\end{align}\n",
    "\n",
    "Con N un número primo.\n",
    "\n",
    "La profundidad de la cavidad esta dada por: \n",
    "\\begin{align}\n",
    "    \\\\\n",
    "    d_{n} =  \\frac{s_{n}\\lambda_{0}}{2N} = \\frac{s_{n}c_{0}}{2Nf_{0}}\\\\\n",
    "    \\\\\n",
    "\\end{align}\n",
    "\n",
    "Donde $\\lambda_{0}$ es la longitud de onda de la frecuencia de diseño $f_{0}=\\frac{c_{0}}{\\lambda_{0}}$. Es importante recalcar que esta frecuencia no es la mas baja a la cual es difusor hará efecto, si no mas bien en la cual sus lóbulos de difracción tienen igual energía, lo que genera una óptima difusión. \n",
    "\n",
    " <!--- Inline HTML works too --->\n",
    "<p style=\"text-align:center\">\n",
    "    <a title=\"lobulo optimo\"><img src=\"lobulof.png\" width=\"500\" height=\"500\" alt=\"Tiny\"></a>\n",
    "    <strong>Figure 4. Gráfico de lobulo."
   ]
  },
  {
   "cell_type": "markdown",
   "metadata": {},
   "source": [
    "Considerando que el difusor se rige por la llegada de ondas plana, se tiene que: \n",
    "\\begin{align}\n",
    "    \\\\\n",
    "    w =  \\frac{s_{n}\\lambda_{0}}{2N} = \\frac{s_{n}c_{0}}{2Nf_{0}}\\\\\n",
    "    \\\\\n",
    "\\end{align}"
   ]
  },
  {
   "cell_type": "markdown",
   "metadata": {},
   "source": [
    "Donde $f_{0}$ es la frecuencia máxima de diseño."
   ]
  },
  {
   "cell_type": "markdown",
   "metadata": {},
   "source": [
    "Para la determinación de la cantidad de cavidades tenemos que:\n",
    "\\begin{align}\n",
    "    \\\\\n",
    "    q =  \\frac{2f_{max}M}{f_{0}} \n",
    "    \\\\\n",
    "\\end{align}\n",
    "\n",
    "Donde $N=q$ o al número primo mayor mas cercano.\n",
    "\n",
    "Se debe tener en cuenta que para el óptimo funcionamiento del difusor se debe considerar un rango operacional no mayor a 3 octavas, y que las superficies que separan las cavidades sean lo mas delgada posibles, sin que transmitan vibraciones."
   ]
  },
  {
   "cell_type": "markdown",
   "metadata": {},
   "source": [
    "# Punto crítico.\n",
    "\n",
    "Para evitar las frecuencias críticas donde el difusor se comporta como una superficie plana.\n",
    "\\begin{align}\n",
    "    \\\\\n",
    "    f_{crítica} = mNf_{max}\n",
    "    \\\\\n",
    "\\end{align}\n",
    "\n",
    "Con $m = 1,2,3,..$\n",
    "\n",
    "Se debe situar la primera frecuencia crítica sobre la frecuencia máxima de operación.\n",
    "\n",
    "\\begin{align}\n",
    "    \\\\\n",
    "    N > \\frac{c_{0}}{2wf_{0}} \n",
    "    \\\\\n",
    "\\end{align}"
   ]
  },
  {
   "cell_type": "code",
   "execution_count": null,
   "metadata": {},
   "outputs": [],
   "source": []
  }
 ],
 "metadata": {
  "kernelspec": {
   "display_name": "ACUS220_1",
   "language": "python",
   "name": "acus220_1"
  },
  "language_info": {
   "codemirror_mode": {
    "name": "ipython",
    "version": 3
   },
   "file_extension": ".py",
   "mimetype": "text/x-python",
   "name": "python",
   "nbconvert_exporter": "python",
   "pygments_lexer": "ipython3",
   "version": "3.6.12"
  }
 },
 "nbformat": 4,
 "nbformat_minor": 4
}
